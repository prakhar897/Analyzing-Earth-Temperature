{
  "cells": [
    {
      "metadata": {
        "trusted": true,
        "_uuid": "2a602ce198cc7824bb7ccf226ef0f033d02f433a"
      },
      "cell_type": "code",
      "source": "import time\nimport pandas as pd\nimport numpy as np\nimport matplotlib.pyplot as plt\nimport seaborn as sns\nimport statsmodels.api as sm\n%matplotlib inline\nplt.style.use('ggplot')\n\nmonths = ['January', 'February', 'March', 'April', 'May', 'June', 'July', 'August', 'September', 'October', 'November', 'December']",
      "execution_count": null,
      "outputs": []
    },
    {
      "metadata": {
        "trusted": true,
        "_uuid": "85de898cf8ba3d3f0d1cb53a936077505d0991bf"
      },
      "cell_type": "code",
      "source": "dataFrame = pd.read_csv('../input/GlobalTemperatures.csv')\ndataFrame.head()",
      "execution_count": null,
      "outputs": []
    },
    {
      "metadata": {
        "trusted": true,
        "_uuid": "0774eee38aff194c2a829e8d80c4013b1bed7897"
      },
      "cell_type": "code",
      "source": "dataFrame.tail()",
      "execution_count": null,
      "outputs": []
    },
    {
      "metadata": {
        "trusted": true,
        "_uuid": "35905253d26578e509b82399d64b2e365e4e6787"
      },
      "cell_type": "code",
      "source": "d1 = dataFrame.iloc[:,:2]  # Throwing off unnecessary data, for now.\nd1.head()",
      "execution_count": null,
      "outputs": []
    },
    {
      "metadata": {
        "trusted": true,
        "_uuid": "582a423ab263afa628ae24e6d285ef96f7fee65f"
      },
      "cell_type": "code",
      "source": "data = d1['LandAverageTemperature']\nmean_temp = data.mean()\nvariance = data.var()\nstd = data.std()\nprint('Mean temperature throughout the years: %.3f celsius' % mean_temp)\nprint('Temperature variance throughout the dataset: %.3f celsius squared' % variance)\nprint('Temperature standard deviation throughout the dataset: %.3f celsius' % std)",
      "execution_count": null,
      "outputs": []
    },
    {
      "metadata": {
        "trusted": true,
        "_uuid": "8c2090be9a3491f671f9dfda33b69e7b7de5f79a"
      },
      "cell_type": "code",
      "source": "times = pd.DatetimeIndex(d1['dt'])\ngrouped = d1.groupby([times.year]).mean()",
      "execution_count": null,
      "outputs": []
    },
    {
      "metadata": {
        "trusted": true,
        "_uuid": "422d5ceee2326f795361518fa2a527589d2e4d26"
      },
      "cell_type": "code",
      "source": "plt.figure(figsize= (20,10))\nstd_grouped = d1.groupby([times.year]).std()\nplt.plot(grouped['LandAverageTemperature'])\nplt.plot(std_grouped['LandAverageTemperature'])\nplt.title('Average Land Temperature and STD between 1750 - 2015')\nplt.xlabel('Year')\nplt.ylabel('Temperature (Celsius)')\nplt.legend(['Average Land Temperature', 'Standard Deviation in Temperature'])\nplt.show()",
      "execution_count": null,
      "outputs": []
    },
    {
      "metadata": {
        "trusted": true,
        "_uuid": "bea833a7e2a9a1460d39025761c633c24d0d25fe"
      },
      "cell_type": "code",
      "source": "grouped.head()",
      "execution_count": null,
      "outputs": []
    },
    {
      "metadata": {
        "trusted": true,
        "_uuid": "465b9032dc7733b10e1143a5e7708eed5142ec34"
      },
      "cell_type": "code",
      "source": "grouped.tail()",
      "execution_count": null,
      "outputs": []
    },
    {
      "metadata": {
        "trusted": true,
        "_uuid": "8b4b7edc5ecec479d613a724d74b1d6603d894b1"
      },
      "cell_type": "code",
      "source": "d1[times.year == 1752]",
      "execution_count": null,
      "outputs": []
    },
    {
      "metadata": {
        "trusted": true,
        "_uuid": "5b371b5936f3e48595ee7b3fecb743e19307e009"
      },
      "cell_type": "code",
      "source": "d2 = dataFrame[['dt', 'LandAverageTemperatureUncertainty']]\nuncertainty_group = d2.groupby([times.year]).mean()\nplt.figure(figsize= (20,10))\nplt.plot(uncertainty_group['LandAverageTemperatureUncertainty'])\nplt.title('Average Land Temperature Uncertainty between 1750 - 2015')\nplt.xlabel('Year')\nplt.ylabel('Temperature Measurement Uncertainty  (Celsius)')\nplt.show()",
      "execution_count": null,
      "outputs": []
    },
    {
      "metadata": {
        "_uuid": "08964b76f64239d6a8cddbbd79a52a2b1d751af5"
      },
      "cell_type": "markdown",
      "source": "As is ovious from the above plot, technological advances enabled more accurate and precise temperature measurements, which led to ever decreasing uncertainties."
    },
    {
      "metadata": {
        "trusted": true,
        "_uuid": "6de6938e8b7499f1c0b7c97f10810ca66c1b7e48"
      },
      "cell_type": "code",
      "source": "d1['LandAverageTemperature']= d1['LandAverageTemperature'].fillna(method='ffill')",
      "execution_count": null,
      "outputs": []
    },
    {
      "metadata": {
        "trusted": true,
        "_uuid": "86491d58d09b82e701bd2795d7bdc80f58223ced"
      },
      "cell_type": "code",
      "source": "# Display coldest and warmest times\nmin_max_df = dataFrame[['dt', 'LandMaxTemperature', 'LandMinTemperature']]\nwarmest_time_idx = min_max_df['LandMaxTemperature'].idxmax()\nwarmest_time = min_max_df.loc[warmest_time_idx]['dt']\nmax_temp = min_max_df['LandMaxTemperature'].max()\nprint('Highest temperature recorded: %.3f celsius in %s %s' % (max_temp, months[int(warmest_time.split('-')[1])-1], warmest_time[:4]))\n\ncoldest_time_idx = min_max_df['LandMinTemperature'].idxmin()\ncoldest_time = min_max_df.loc[coldest_time_idx]['dt']\nmin_temp = min_max_df['LandMinTemperature'].min()\nprint('Lowest temperature recorded: %.3f celsius in %s %s' % (min_temp, months[int(coldest_time.split('-')[1])-1], coldest_time[:4]))\nprint('Temperature range: %.3f celsius' % (max_temp-min_temp))\n# Display coldest and warmest years\nwarmest_year = grouped['LandAverageTemperature'].idxmax()\nmax_avg_temp = grouped.loc[warmest_year]['LandAverageTemperature']\nprint('\\nWarmest year -> %s : %.3f celsius' % (warmest_year, max_avg_temp))\n\n\ncoldest_year = grouped['LandAverageTemperature'].idxmin()\nmin_avg_temp = grouped.loc[coldest_year]['LandAverageTemperature']\nprint('Coldest year -> %s : %.3f celsius' % (coldest_year, min_avg_temp))",
      "execution_count": null,
      "outputs": []
    },
    {
      "metadata": {
        "_uuid": "2fd858bfc80f58ef9613d272d96991b95e545d46"
      },
      "cell_type": "markdown",
      "source": "Even though the highest temperature recorded was in July 2011, **2015 was the warmest year** as the highest _average_ temperature was recorded in 2015. This hints towards global warming. Also, **the lowest temperature was recorded in 1857, but the coldest year was 1752** as the lowest _average_ temperature was recorded in 1752."
    },
    {
      "metadata": {
        "trusted": true,
        "_uuid": "1c0bed3655f418d555a3b01d25da8c55bdcdd3f0"
      },
      "cell_type": "code",
      "source": "# Histogram of temperatures grouped by month - of 1750, 2015 and average of all the years\n# Draw the year's average temperature line\nfirst_year_df = d1[:12]\nfirst_year_df = first_year_df.assign(month=pd.Series(months))\nfirst_year_df.set_index(\"month\",drop=True,inplace=True)\nfirst_year_df.rename(columns={'LandAverageTemperature': 'avg_temp_first'}, inplace=True)\n\nfinal_year_df = d1[-12:]\nfinal_year_df.index = list(range(12))\nfinal_year_df = final_year_df.assign(month=pd.Series(months))\nfinal_year_df.set_index(\"month\",drop=True,inplace=True)\nfinal_year_df.rename(columns={'LandAverageTemperature': 'avg_temp_final'}, inplace=True)\n\nframes = [first_year_df, final_year_df]\ntemp_variation = pd.concat(frames, axis=1)\ntemp_variation['diff'] = temp_variation['avg_temp_final'] - temp_variation['avg_temp_first']\ntemp_variation",
      "execution_count": null,
      "outputs": []
    },
    {
      "metadata": {
        "trusted": true,
        "_uuid": "977c19c01f0f4db7a2354ae0901a5c4cff8a5f31"
      },
      "cell_type": "code",
      "source": "ax = plt.figure(figsize=(20,10)).gca()\ntemp_variation.plot(kind='bar', y=['avg_temp_first', 'avg_temp_final'], ax=ax)\ntemp_variation.plot(kind='line', y=['diff'], style='go-', ax=ax)\nplt.title('Monthly average temperatures for years 1750 and 2015')\nplt.xlabel('Month')\nplt.ylabel('Average Temperature (Celsius)')\nplt.legend(['difference', '1750 average', '2015 average'])\nplt.show()",
      "execution_count": null,
      "outputs": []
    },
    {
      "metadata": {
        "_uuid": "e7eb405c409331bc1e367caaab5a5b751052ee61"
      },
      "cell_type": "markdown",
      "source": "As inferred from the above bar chart, most of the 2015 months are warmer compared to 1750 months, **suggesting increasing warmth over time.**\nWe can also observe that the **temperature *difference* between 1750 and 2015 is highest in October and lowest in August**. Furthermore, the **July 1750 temperature is higher than the July 2015 temperature**, thereby defying the norm followed by other months."
    },
    {
      "metadata": {
        "trusted": true,
        "_uuid": "80b04464780775a86ff1201d6c21c2c35aa7bfbd"
      },
      "cell_type": "code",
      "source": "month_avg_group = d1.groupby([times.month]).mean()\nmonth_avg_group.index = list(range(12))\nmonth_avg_group = month_avg_group.assign(month=pd.Series(months))\nmonth_avg_group.set_index(\"month\",drop=True,inplace=True)\n\nmonth_avg_group",
      "execution_count": null,
      "outputs": []
    },
    {
      "metadata": {
        "trusted": true,
        "_uuid": "2c79c8906ae41cf64d59264010af9a188a2abba7"
      },
      "cell_type": "code",
      "source": "warmest_month = month_avg_group['LandAverageTemperature'].idxmax()\ncoldest_month = month_avg_group['LandAverageTemperature'].idxmin()\n\nprint('Warmest month throughout the years -> %s : %.3f celsius average temperature' % (warmest_month, month_avg_group.loc[warmest_month]['LandAverageTemperature']))\nprint('Coldest month throughout the years -> %s : %.3f celsius average temperature' % (coldest_month, month_avg_group.loc[coldest_month]['LandAverageTemperature']))",
      "execution_count": null,
      "outputs": []
    },
    {
      "metadata": {
        "trusted": true,
        "_uuid": "1734293137a5b9710d8689477c4c623837d38f9e"
      },
      "cell_type": "code",
      "source": "ax = plt.figure(figsize=(20,10)).gca()\nmonth_avg_group.plot(kind='bar', ax=ax)\nplt.title('Monthly average temperatures throughout 1750-2015')\nplt.xlabel('Month')\nplt.ylabel('Average Temperature (Celsius)')\nplt.show()\n# Also maybe have running averages in plots",
      "execution_count": null,
      "outputs": []
    },
    {
      "metadata": {
        "trusted": true,
        "_uuid": "32690fe9ea82f4e8608da515f3757be61673a09e"
      },
      "cell_type": "code",
      "source": "# plot variation in temperature throughout the years\n# First, data preprocessing to group min, max, diff data\n# Group by year\nyearly_var_group = min_max_df.groupby([times.year]).mean()\nyearly_var_group.rename(columns={'LandMaxTemperature': 'max_avg_temp'}, inplace=True)\nyearly_var_group.rename(columns={'LandMinTemperature': 'min_avg_temp'}, inplace=True)\n\nyearly_var_group['diff'] = yearly_var_group['max_avg_temp'] - yearly_var_group['min_avg_temp']\n\nax = plt.figure(figsize=(20,10)).gca()\nyearly_var_group.plot(y=['max_avg_temp', 'min_avg_temp', 'diff'], ax=ax)\nplt.title('Variation in average temperatures throughout the dataset')\nplt.xlabel('Year')\nplt.ylabel('Variation in Average Temperature (Celsius)')\nplt.legend(['Highest Temperature', 'Lowest Temperature', 'Difference'])\nplt.show()",
      "execution_count": null,
      "outputs": []
    },
    {
      "metadata": {
        "_uuid": "8e494246151a2c3ed517464c966809a6e00c3671"
      },
      "cell_type": "markdown",
      "source": "We can see that, in recent years, **both the highest and the lowest temperatures show a rise**, while there is a **slight decrese in the temperature *difference***."
    },
    {
      "metadata": {
        "trusted": true,
        "_uuid": "a2d32dcc75f5961367e31437d1b6b9679746fd22"
      },
      "cell_type": "code",
      "source": "# Which month shows the highest variation?\nmonth_var_group = min_max_df.groupby([times.month]).mean()\n#month_var_group = month_max_group.drop('dt', axis=1)\nmonth_var_group.rename(columns={'LandMaxTemperature': 'max_temp'}, inplace=True)\nmonth_var_group.rename(columns={'LandMinTemperature': 'min_temp'}, inplace=True)\n\nmonth_var_group.index = list(range(12))\n\nmonth_var_group = month_var_group.assign(month=pd.Series(months))\nmonth_var_group.set_index(\"month\",drop=True,inplace=True)\nmonth_var_group['diff'] = month_var_group['max_temp'] - month_var_group['min_temp']\nmonth_var_group",
      "execution_count": null,
      "outputs": []
    },
    {
      "metadata": {
        "trusted": true,
        "_uuid": "9ba7a225a746fc6c6ccc05fc5908299d0b5c57bd"
      },
      "cell_type": "code",
      "source": "# Plot the results\n\nax = plt.figure(figsize=(20,10)).gca()\nmonth_var_group.plot(kind='bar', y=['max_temp', 'min_temp'], ax=ax)\nmonth_var_group.plot(kind='line', y=['diff'], style='go-', ax=ax)\nmonth_avg_group.plot(kind='line', style='co-', linewidth=2.0, ax=ax)\nplt.title('Highest and lowest temperatures of months throughout the dataset')\nplt.xlabel('Month')\nplt.ylabel('Variation in Average Temperature (Celsius)')\nplt.legend(['Difference', 'Average Temperature', 'Highest Temperature', 'Lowest Temperature'])\nplt.show()",
      "execution_count": null,
      "outputs": []
    },
    {
      "metadata": {
        "_uuid": "04ac3a0670f14f0eb85e80621778c4603011efae"
      },
      "cell_type": "markdown",
      "source": "Thus, we observe that the **temperature *difference* remains essentially constant throughout the year**."
    },
    {
      "metadata": {
        "trusted": true,
        "_uuid": "09efd8bd004eb45bebeb1dc84b2a48d1261efa74"
      },
      "cell_type": "code",
      "source": "print('Mean temperature difference: %.3f celsius' % (month_var_group['diff'].mean()))",
      "execution_count": null,
      "outputs": []
    },
    {
      "metadata": {
        "trusted": true,
        "_uuid": "e902897128b9d907d38502221a786dfb6d2b7567"
      },
      "cell_type": "code",
      "source": "# Frequency distribution - do a histogram-like plot.\nmax_avg_temp = data.max()\nmin_avg_temp = data.min()\navg_temp_range = max_avg_temp - min_avg_temp\nprint('Average temperature range: %.3f celsius' % avg_temp_range)\n\nsns.set()\nplt.figure(figsize= (20,10))\nsns.distplot(data)\nplt.title('Frequency Distribution of Average Temperatures')\nplt.xlabel('Temperature (celsius)')\nplt.ylabel('Frequency (normalized / relative)')\nplt.show()",
      "execution_count": null,
      "outputs": []
    },
    {
      "metadata": {
        "_uuid": "62b234ead1afc299cb814345b2f3e27a6932e185"
      },
      "cell_type": "markdown",
      "source": "As can be seen, the **median temperature is about 9 degrees celsius** and the **mode temperature is about 14 degrees celsius**."
    },
    {
      "metadata": {
        "trusted": true,
        "_uuid": "fc2c38655147105577466b8213d266087f2e9ec5"
      },
      "cell_type": "code",
      "source": "# Also, let's just do a simple box plot\n\nplt.figure(figsize=(20, 10))\nd1.boxplot(column='LandAverageTemperature')\nplt.title('Average Temperatures Box Plot')\nplt.ylabel('Temperature (celsius)')\nplt.show()",
      "execution_count": null,
      "outputs": []
    },
    {
      "metadata": {
        "_uuid": "71c99921229921094491cdbe621b1e1d0caeaa63"
      },
      "cell_type": "markdown",
      "source": "Now we perform simple linear regression to build a predictive model for our temperature time series data."
    },
    {
      "metadata": {
        "trusted": true,
        "_uuid": "2546a4c434b5aad803fdaaf652378af5bae48d83"
      },
      "cell_type": "code",
      "source": "from sklearn.linear_model import LinearRegression as LinReg",
      "execution_count": null,
      "outputs": []
    },
    {
      "metadata": {
        "trusted": true,
        "_uuid": "1ad41459c236a1f89736dc5125961c9855fa3ffa"
      },
      "cell_type": "code",
      "source": "# Decomposing seasons out of temperature data\nd1.index = times\n\nres = sm.tsa.seasonal_decompose(d1['LandAverageTemperature'])\nfig, (ax1,ax2,ax3) = plt.subplots(3, 1, figsize=(30, 20))\nd1.plot(ax=ax1)\nax1.set(xlabel='Time', ylabel='Temperature (celsius)')\n\nres.trend.plot(ax=ax2)\nax2.set(xlabel='Time', ylabel='Trend')\n\nres.seasonal.plot(ax=ax3)\nax3.set(xlabel='Time', ylabel='Seasonal')\n\nplt.show()",
      "execution_count": null,
      "outputs": []
    },
    {
      "metadata": {
        "_uuid": "6d5a148a5ad93ee7d56120b6a77f50f0e62f866a"
      },
      "cell_type": "markdown",
      "source": "In the above plot, we decompose the overall temperature data into seasonal and trend parts, and thus observe that the trend follows the same pattern as that of the yearly average plot drawn above."
    },
    {
      "metadata": {
        "trusted": true,
        "_uuid": "ba3d5c39df831328ae03bbbb179e8e37022a1aea"
      },
      "cell_type": "code",
      "source": "from sklearn.linear_model import LinearRegression as LinReg\n\nx = grouped.index.values.reshape(-1,1)\ny = grouped['LandAverageTemperature'].values\n\nreg = LinReg()\nreg.fit(x,y)\ny_preds = reg.predict(x)\nprint(\"Accuracy: %.3f\" % reg.score(x,y))",
      "execution_count": null,
      "outputs": []
    },
    {
      "metadata": {
        "trusted": true,
        "_uuid": "609836f5bdbba80ed23b23c2a04ec383a7a83d8a"
      },
      "cell_type": "code",
      "source": "plt.figure(figsize = (20,10))\nplt.title(\"Linear Regression\")\nplt.scatter(x = x, y = y_preds)\nplt.scatter(x = x,y =y,c = \"b\")\nplt.show()",
      "execution_count": null,
      "outputs": []
    },
    {
      "metadata": {
        "trusted": true,
        "_uuid": "53d4f5cf01ba25fbe8548785a59af84f3abc4473"
      },
      "cell_type": "code",
      "source": "print('Predicted temperature of 2300 is: %.3f celsius' % reg.predict([[2300]])[0])",
      "execution_count": null,
      "outputs": []
    },
    {
      "metadata": {
        "trusted": true,
        "_uuid": "1add2a3bccd6ec1efddda1cb9c35e4be42a9bdbe"
      },
      "cell_type": "code",
      "source": "",
      "execution_count": null,
      "outputs": []
    }
  ],
  "metadata": {
    "kernelspec": {
      "display_name": "Python 3",
      "language": "python",
      "name": "python3"
    },
    "language_info": {
      "name": "python",
      "version": "3.6.6",
      "mimetype": "text/x-python",
      "codemirror_mode": {
        "name": "ipython",
        "version": 3
      },
      "pygments_lexer": "ipython3",
      "nbconvert_exporter": "python",
      "file_extension": ".py"
    }
  },
  "nbformat": 4,
  "nbformat_minor": 1
}